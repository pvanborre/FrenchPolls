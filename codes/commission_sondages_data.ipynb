{
 "cells": [
  {
   "cell_type": "code",
   "execution_count": 1,
   "metadata": {},
   "outputs": [],
   "source": [
    "import pandas as pd"
   ]
  },
  {
   "cell_type": "code",
   "execution_count": 2,
   "metadata": {},
   "outputs": [
    {
     "data": {
      "text/html": [
       "<div>\n",
       "<style scoped>\n",
       "    .dataframe tbody tr th:only-of-type {\n",
       "        vertical-align: middle;\n",
       "    }\n",
       "\n",
       "    .dataframe tbody tr th {\n",
       "        vertical-align: top;\n",
       "    }\n",
       "\n",
       "    .dataframe thead th {\n",
       "        text-align: right;\n",
       "    }\n",
       "</style>\n",
       "<table border=\"1\" class=\"dataframe\">\n",
       "  <thead>\n",
       "    <tr style=\"text-align: right;\">\n",
       "      <th></th>\n",
       "      <th>Company</th>\n",
       "      <th>collectPeriodFrom</th>\n",
       "      <th>collectPeriodTo</th>\n",
       "      <th>n</th>\n",
       "      <th>Hypothese</th>\n",
       "      <th>RN</th>\n",
       "      <th>RCQ</th>\n",
       "      <th>DLF</th>\n",
       "      <th>LR</th>\n",
       "      <th>LRM</th>\n",
       "      <th>EELV</th>\n",
       "      <th>PS</th>\n",
       "      <th>LFI</th>\n",
       "      <th>Total</th>\n",
       "      <th>PublDate</th>\n",
       "      <th>nom commission</th>\n",
       "    </tr>\n",
       "  </thead>\n",
       "  <tbody>\n",
       "    <tr>\n",
       "      <th>0</th>\n",
       "      <td>OpinionWay\\t</td>\n",
       "      <td>2017-03-31</td>\n",
       "      <td>2017-04-02</td>\n",
       "      <td>1624</td>\n",
       "      <td>NaN</td>\n",
       "      <td>25</td>\n",
       "      <td>0</td>\n",
       "      <td>4</td>\n",
       "      <td>19</td>\n",
       "      <td>24</td>\n",
       "      <td>0</td>\n",
       "      <td>11</td>\n",
       "      <td>15</td>\n",
       "      <td>98</td>\n",
       "      <td>2017-04-03</td>\n",
       "      <td>8377 presitrack 41 OW les échos</td>\n",
       "    </tr>\n",
       "  </tbody>\n",
       "</table>\n",
       "</div>"
      ],
      "text/plain": [
       "        Company collectPeriodFrom collectPeriodTo     n  Hypothese  RN  RCQ  \\\n",
       "0  OpinionWay\\t        2017-03-31      2017-04-02  1624        NaN  25    0   \n",
       "\n",
       "   DLF  LR  LRM  EELV  PS  LFI  Total   PublDate  \\\n",
       "0    4  19   24     0  11   15     98 2017-04-03   \n",
       "\n",
       "                    nom commission  \n",
       "0  8377 presitrack 41 OW les échos  "
      ]
     },
     "execution_count": 2,
     "metadata": {},
     "output_type": "execute_result"
    }
   ],
   "source": [
    "df = pd.read_excel('../input_data/commission_sondages_data.xlsx')\n",
    "df"
   ]
  },
  {
   "cell_type": "code",
   "execution_count": 4,
   "metadata": {},
   "outputs": [
    {
     "data": {
      "text/html": [
       "<div>\n",
       "<style scoped>\n",
       "    .dataframe tbody tr th:only-of-type {\n",
       "        vertical-align: middle;\n",
       "    }\n",
       "\n",
       "    .dataframe tbody tr th {\n",
       "        vertical-align: top;\n",
       "    }\n",
       "\n",
       "    .dataframe thead th {\n",
       "        text-align: right;\n",
       "    }\n",
       "</style>\n",
       "<table border=\"1\" class=\"dataframe\">\n",
       "  <thead>\n",
       "    <tr style=\"text-align: right;\">\n",
       "      <th></th>\n",
       "      <th>Company</th>\n",
       "      <th>collectPeriodFrom</th>\n",
       "      <th>collectPeriodTo</th>\n",
       "      <th>n</th>\n",
       "      <th>Hypothese</th>\n",
       "      <th>RN</th>\n",
       "      <th>RCQ</th>\n",
       "      <th>DLF</th>\n",
       "      <th>LR</th>\n",
       "      <th>LRM</th>\n",
       "      <th>EELV</th>\n",
       "      <th>PS</th>\n",
       "      <th>LFI</th>\n",
       "      <th>Total</th>\n",
       "      <th>PublDate</th>\n",
       "      <th>nom commission</th>\n",
       "    </tr>\n",
       "  </thead>\n",
       "  <tbody>\n",
       "    <tr>\n",
       "      <th>0</th>\n",
       "      <td>OpinionWay\\t</td>\n",
       "      <td>2017-03-31</td>\n",
       "      <td>2017-04-02</td>\n",
       "      <td>1624</td>\n",
       "      <td>NaN</td>\n",
       "      <td>25</td>\n",
       "      <td>0</td>\n",
       "      <td>4</td>\n",
       "      <td>19</td>\n",
       "      <td>24</td>\n",
       "      <td>0</td>\n",
       "      <td>11</td>\n",
       "      <td>15</td>\n",
       "      <td>98</td>\n",
       "      <td>2017-04-03</td>\n",
       "      <td>8377 presitrack 41 OW les échos</td>\n",
       "    </tr>\n",
       "  </tbody>\n",
       "</table>\n",
       "</div>"
      ],
      "text/plain": [
       "        Company collectPeriodFrom collectPeriodTo     n  Hypothese  RN  RCQ  \\\n",
       "0  OpinionWay\\t        2017-03-31      2017-04-02  1624        NaN  25    0   \n",
       "\n",
       "   DLF  LR  LRM  EELV  PS  LFI  Total    PublDate  \\\n",
       "0    4  19   24     0  11   15     98  2017-04-03   \n",
       "\n",
       "                    nom commission  \n",
       "0  8377 presitrack 41 OW les échos  "
      ]
     },
     "execution_count": 4,
     "metadata": {},
     "output_type": "execute_result"
    }
   ],
   "source": [
    "df['collectPeriodFrom'] = pd.to_datetime(df['collectPeriodFrom']).dt.strftime('%Y-%m-%d')\n",
    "df['collectPeriodTo'] = pd.to_datetime(df['collectPeriodTo']).dt.strftime('%Y-%m-%d')\n",
    "df['PublDate'] = pd.to_datetime(df['PublDate']).dt.strftime('%Y-%m-%d')\n",
    "df"
   ]
  },
  {
   "cell_type": "code",
   "execution_count": 5,
   "metadata": {},
   "outputs": [],
   "source": [
    "df.to_csv('../output_data/commission_sondages_data.csv', index=False)"
   ]
  }
 ],
 "metadata": {
  "kernelspec": {
   "display_name": "Python 3",
   "language": "python",
   "name": "python3"
  },
  "language_info": {
   "codemirror_mode": {
    "name": "ipython",
    "version": 3
   },
   "file_extension": ".py",
   "mimetype": "text/x-python",
   "name": "python",
   "nbconvert_exporter": "python",
   "pygments_lexer": "ipython3",
   "version": "3.11.3"
  }
 },
 "nbformat": 4,
 "nbformat_minor": 2
}
