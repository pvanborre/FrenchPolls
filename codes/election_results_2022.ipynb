{
 "cells": [
  {
   "cell_type": "code",
   "execution_count": null,
   "metadata": {},
   "outputs": [],
   "source": [
    "import pandas as pd \n",
    "\n",
    "election_results_2022 = pd.read_csv(\"../input_data/election_results_2022.csv\")\n",
    "election_results_2022"
   ]
  },
  {
   "cell_type": "code",
   "execution_count": null,
   "metadata": {},
   "outputs": [],
   "source": [
    "election_results_2022[\"Voix\"] = election_results_2022[\"Voix\"].str.replace(' ', '')\n",
    "election_results_2022[\"Voix\"] = pd.to_numeric(election_results_2022[\"Voix\"])\n",
    "\n",
    "election_results_2022[\"% Exprimés\"] = election_results_2022[\"% Exprimés\"].str.replace(',', '.')\n",
    "election_results_2022[\"% Exprimés\"] = pd.to_numeric(election_results_2022[\"% Exprimés\"])/100\n",
    "\n",
    "election_results_2022"
   ]
  },
  {
   "cell_type": "code",
   "execution_count": null,
   "metadata": {},
   "outputs": [],
   "source": [
    "election_results_2022[\"n\"] = election_results_2022[\"Voix\"]/election_results_2022[\"% Exprimés\"]\n",
    "election_results_2022"
   ]
  },
  {
   "cell_type": "code",
   "execution_count": null,
   "metadata": {},
   "outputs": [],
   "source": [
    "election_mini = election_results_2022[[\"Liste des candidats\", \"% Exprimés\"]]\n",
    "election_mini"
   ]
  },
  {
   "cell_type": "code",
   "execution_count": null,
   "metadata": {},
   "outputs": [],
   "source": [
    "election_results_2022_pivoted = election_mini.set_index('Liste des candidats').T\n",
    "election_results_2022_pivoted"
   ]
  },
  {
   "cell_type": "code",
   "execution_count": null,
   "metadata": {},
   "outputs": [],
   "source": [
    "election_results_2022_pivoted2 = election_results_2022_pivoted.rename(columns={\n",
    "    'Mme Marine LE PEN': 'RN',\n",
    "    'M. Éric ZEMMOUR': 'RCQ',\n",
    "    'M. Nicolas DUPONT-AIGNAN': 'DLF',\n",
    "    'Mme Valérie PÉCRESSE': 'LR',\n",
    "    'Mme Anne HIDALGO': 'PS',\n",
    "    'M. Jean-Luc MÉLENCHON': 'LFI',\n",
    "    'M. Yannick JADOT': 'EELV', \n",
    "    'M. Emmanuel MACRON': 'LRM'\n",
    "})\n",
    "\n",
    "election_results_2022_pivoted2"
   ]
  },
  {
   "cell_type": "code",
   "execution_count": null,
   "metadata": {},
   "outputs": [],
   "source": [
    "desired_columns = [\n",
    "    'RN', \n",
    "    'RCQ', \n",
    "    'DLF',  \n",
    "    'LR', \n",
    "    'LRM', \n",
    "    'EELV', \n",
    "    'PS', \n",
    "    'LFI'\n",
    "]\n",
    "\n",
    "results_elections_final = election_results_2022_pivoted2[desired_columns].copy()\n",
    "results_elections_final = results_elections_final.reset_index(drop=True)\n",
    "results_elections_final"
   ]
  },
  {
   "cell_type": "code",
   "execution_count": null,
   "metadata": {},
   "outputs": [],
   "source": [
    "date_election = \"2022-04-10\"\n",
    "results_elections_final[\"PublDate\"] = date_election\n",
    "results_elections_final[\"collectPeriodFrom\"] = date_election\n",
    "results_elections_final[\"collectPeriodTo\"] = date_election\n",
    "results_elections_final"
   ]
  },
  {
   "cell_type": "code",
   "execution_count": null,
   "metadata": {},
   "outputs": [],
   "source": [
    "results_elections_final.to_csv('../output_data/result_2022_election.csv', index=False, encoding='utf-8')"
   ]
  }
 ],
 "metadata": {
  "kernelspec": {
   "display_name": "Python 3",
   "language": "python",
   "name": "python3"
  },
  "language_info": {
   "codemirror_mode": {
    "name": "ipython",
    "version": 3
   },
   "file_extension": ".py",
   "mimetype": "text/x-python",
   "name": "python",
   "nbconvert_exporter": "python",
   "pygments_lexer": "ipython3",
   "version": "3.11.3"
  }
 },
 "nbformat": 4,
 "nbformat_minor": 2
}
