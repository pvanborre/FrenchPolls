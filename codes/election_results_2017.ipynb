{
 "cells": [
  {
   "cell_type": "code",
   "execution_count": null,
   "metadata": {},
   "outputs": [],
   "source": [
    "import pandas as pd \n",
    "import numpy as np\n",
    "\n",
    "election_results_2017 = pd.read_csv(\"../input_data/election_results_2017.csv\")\n",
    "election_results_2017"
   ]
  },
  {
   "cell_type": "code",
   "execution_count": null,
   "metadata": {},
   "outputs": [],
   "source": [
    "election_results_2017[\"Voix\"] = pd.to_numeric(election_results_2017[\"Voix\"])\n",
    "election_results_2017[\"% Exprimés\"] = pd.to_numeric(election_results_2017[\"% Exprimés\"])/100\n",
    "\n",
    "election_results_2017"
   ]
  },
  {
   "cell_type": "code",
   "execution_count": null,
   "metadata": {},
   "outputs": [],
   "source": [
    "election_results_2017[\"n\"] = election_results_2017[\"Voix\"]/election_results_2017[\"% Exprimés\"]\n",
    "election_results_2017"
   ]
  },
  {
   "cell_type": "code",
   "execution_count": null,
   "metadata": {},
   "outputs": [],
   "source": [
    "election_mini = election_results_2017[[\"Liste des candidats\", \"% Exprimés\"]]\n",
    "election_mini"
   ]
  },
  {
   "cell_type": "code",
   "execution_count": null,
   "metadata": {},
   "outputs": [],
   "source": [
    "election_results_2017_pivoted = election_mini.set_index('Liste des candidats').T\n",
    "election_results_2017_pivoted"
   ]
  },
  {
   "cell_type": "code",
   "execution_count": null,
   "metadata": {},
   "outputs": [],
   "source": [
    "election_results_2017_pivoted2 = election_results_2017_pivoted.rename(columns={\n",
    "    'Marine LE PEN': 'RN',\n",
    "    #'M. Éric ZEMMOUR': 'RCQ',\n",
    "    'Nicolas DUPONT-AIGNAN': 'DLF',\n",
    "    'François FILLON': 'LR',\n",
    "    'Benoît HAMON': 'PS',\n",
    "    'Jean-Luc MÉLENCHON': 'LFI',\n",
    "    #'M. Yannick JADOT': 'EELV', \n",
    "    'Emmanuel MACRON': 'LRM'\n",
    "})\n",
    "\n",
    "election_results_2017_pivoted2['RCQ'] = np.nan\n",
    "election_results_2017_pivoted2['EELV'] = np.nan\n",
    "\n",
    "election_results_2017_pivoted2"
   ]
  },
  {
   "cell_type": "code",
   "execution_count": null,
   "metadata": {},
   "outputs": [],
   "source": [
    "desired_columns = [\n",
    "    'RN', \n",
    "    'RCQ', \n",
    "    'DLF',  \n",
    "    'LR', \n",
    "    'LRM', \n",
    "    'EELV', \n",
    "    'PS', \n",
    "    'LFI'\n",
    "]\n",
    "\n",
    "results_elections_final = election_results_2017_pivoted2[desired_columns].copy()\n",
    "results_elections_final = results_elections_final.reset_index(drop=True)\n",
    "results_elections_final"
   ]
  },
  {
   "cell_type": "code",
   "execution_count": null,
   "metadata": {},
   "outputs": [],
   "source": [
    "date_election = \"2017-04-23\"\n",
    "results_elections_final[\"PublDate\"] = date_election\n",
    "results_elections_final[\"collectPeriodFrom\"] = date_election\n",
    "results_elections_final[\"collectPeriodTo\"] = date_election\n",
    "results_elections_final"
   ]
  },
  {
   "cell_type": "code",
   "execution_count": null,
   "metadata": {},
   "outputs": [],
   "source": [
    "results_elections_final.to_csv('../output_data/result_2017_election.csv', index=False, encoding='utf-8')"
   ]
  }
 ],
 "metadata": {
  "kernelspec": {
   "display_name": "Python 3",
   "language": "python",
   "name": "python3"
  },
  "language_info": {
   "codemirror_mode": {
    "name": "ipython",
    "version": 3
   },
   "file_extension": ".py",
   "mimetype": "text/x-python",
   "name": "python",
   "nbconvert_exporter": "python",
   "pygments_lexer": "ipython3",
   "version": "3.11.3"
  }
 },
 "nbformat": 4,
 "nbformat_minor": 2
}
