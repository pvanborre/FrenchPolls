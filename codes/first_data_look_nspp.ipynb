{
 "cells": [
  {
   "cell_type": "code",
   "execution_count": null,
   "metadata": {},
   "outputs": [],
   "source": [
    "import json\n",
    "import pandas as pd \n",
    "\n",
    "with open('../input_data/data_presidentielle_2022_nspp.json', 'r', encoding=\"utf-8\") as file:\n",
    "    liste_sondages_nspp = json.load(file)"
   ]
  },
  {
   "cell_type": "code",
   "execution_count": null,
   "metadata": {},
   "outputs": [],
   "source": [
    "first_tour_scores = []\n",
    "\n",
    "for index in range(len(liste_sondages_nspp)):\n",
    "    sondage = liste_sondages_nspp[index]\n",
    "    nom_institut = sondage[\"nom_institut\"]\n",
    "    debut_enquete = sondage[\"debut_enquete\"]\n",
    "    fin_enquete = sondage[\"fin_enquete\"]\n",
    "    echantillon = sondage[\"echantillon\"]\n",
    "    tours = sondage[\"tours\"]\n",
    "    for tour in tours:\n",
    "        if tour['tour'] == 'Premier tour': #we restrict ourselves to the first round\n",
    "            # print(tour)\n",
    "            for hypothesis in tour['hypotheses']:\n",
    "                    hypo_name = hypothesis['hypothese']\n",
    "                    scores = []\n",
    "                    for candidat in hypothesis['candidats']:\n",
    "                        candidate_info = {\n",
    "                            'candidat': candidat['candidat'],\n",
    "                            'parti': candidat['parti'],\n",
    "                            'intentions': candidat['intentions']\n",
    "                        }\n",
    "                        scores.append(candidate_info)\n",
    "                    first_tour_scores.append({'nom_institut':nom_institut, 'debut_enquete':debut_enquete, 'fin_enquete':fin_enquete, 'echantillon':echantillon, 'hypothese': hypo_name, 'scores': scores})\n",
    "\n",
    "first_tour_scores"
   ]
  },
  {
   "cell_type": "markdown",
   "metadata": {},
   "source": [
    "# 1st version: with candidates' names\n"
   ]
  },
  {
   "cell_type": "code",
   "execution_count": null,
   "metadata": {},
   "outputs": [],
   "source": [
    "unique_candidates = set()\n",
    "for tour in first_tour_scores:\n",
    "    for candidate in tour['scores']:\n",
    "        unique_candidates.add(candidate[\"candidat\"])\n",
    "unique_candidates"
   ]
  },
  {
   "cell_type": "code",
   "execution_count": null,
   "metadata": {},
   "outputs": [],
   "source": [
    "\n",
    "rows_candidates = []\n",
    "for tour in first_tour_scores:\n",
    "    row = {'Company':tour['nom_institut'], 'collectPeriodFrom':tour['debut_enquete'], 'collectPeriodTo':tour['fin_enquete'], 'n':tour['echantillon'], 'Hypothese': tour['hypothese']}\n",
    "    for candidate in unique_candidates:\n",
    "        row[candidate] = None\n",
    "    for candidate in tour['scores']:\n",
    "        #print(candidate, candidate[\"candidat\"])\n",
    "        if candidate[\"candidat\"] in unique_candidates:\n",
    "            row[candidate[\"candidat\"]] = candidate['intentions']\n",
    "    rows_candidates.append(row)\n",
    "\n",
    "rows_candidates\n",
    "\n",
    "#TODO regrouper candidats par parti "
   ]
  },
  {
   "cell_type": "code",
   "execution_count": null,
   "metadata": {},
   "outputs": [],
   "source": [
    "df_candidates = pd.DataFrame(rows_candidates)\n",
    "df_candidates['Total'] = df_candidates[list(unique_candidates)].sum(axis=1)\n",
    "print(\"we removed\", len(df_candidates[df_candidates['Total']!=100]), \"outliers polls\")\n",
    "df_candidates = df_candidates[df_candidates['Total']==100] \n",
    "df_candidates"
   ]
  },
  {
   "cell_type": "code",
   "execution_count": null,
   "metadata": {},
   "outputs": [],
   "source": [
    "map_people_party = {}\n",
    "\n",
    "for tour in first_tour_scores:\n",
    "    for candidate in tour['scores']:\n",
    "        #print(candidate, candidate[\"candidat\"])\n",
    "        if len(candidate[\"parti\"])==1:\n",
    "            map_people_party[candidate[\"candidat\"]] = candidate[\"parti\"][0]\n",
    "        else: \n",
    "            if candidate[\"parti\"] == ['LRM', 'Agir', 'Modem']:\n",
    "                map_people_party[candidate[\"candidat\"]] = 'LRM'\n",
    "            elif candidate[\"parti\"] == ['Les Républicains', 'UDI']:\n",
    "                map_people_party[candidate[\"candidat\"]] = 'Les Républicains'\n",
    "            # else:\n",
    "            #     print(candidate, candidate[\"candidat\"])\n",
    "\n",
    "            \n",
    "\n",
    "\n",
    "map_people_party['Arnaud Montebourg'] = 'Parti socialiste'\n",
    "map_people_party['Christiane Taubira'] = 'Parti socialiste'\n",
    "map_people_party['Jean-Luc Mélenchon'] = 'France insoumise'\n",
    "\n",
    "map_people_party\n"
   ]
  },
  {
   "cell_type": "code",
   "execution_count": null,
   "metadata": {},
   "outputs": [],
   "source": [
    "df_candidates_party = df_candidates.iloc[:, :5]\n",
    "df_candidates = df_candidates.fillna(0)\n",
    "\n",
    "\n",
    "for name, party in map_people_party.items():\n",
    "    if party not in df_candidates_party.columns:\n",
    "        df_candidates_party[party] = 0\n",
    "    df_candidates_party[party] += df_candidates[name]\n",
    "\n",
    "df_candidates_party['Total'] = df_candidates_party.iloc[:, 5:].sum(axis=1)\n",
    "\n",
    "assert len(df_candidates_party[df_candidates_party['Total']!=100]) == 0\n",
    "df_candidates_party"
   ]
  },
  {
   "cell_type": "code",
   "execution_count": null,
   "metadata": {},
   "outputs": [],
   "source": [
    "desired_columns = [\n",
    "    'Company',\n",
    "    'collectPeriodFrom',\n",
    "    'collectPeriodTo',\n",
    "    'n',\n",
    "    'Hypothese',\n",
    "    'Rassemblement national', \n",
    "    'Reconquête', \n",
    "    'Debout la France',  #should we keep that one?\n",
    "    'Les Républicains', \n",
    "    'LRM', \n",
    "    'EE-LV', \n",
    "    'Parti socialiste', \n",
    "    'France insoumise'\n",
    "]\n",
    "\n",
    "df_candidates_party_small = df_candidates_party[desired_columns].copy()\n",
    "df_candidates_party_small['Total'] = df_candidates_party_small.loc[:, desired_columns[5:]].sum(axis=1)\n",
    "df_candidates_party_small\n"
   ]
  },
  {
   "cell_type": "code",
   "execution_count": null,
   "metadata": {},
   "outputs": [],
   "source": [
    "df_candidates.to_csv('../output_data/df_candidates.csv', index=False, encoding='utf-8')"
   ]
  },
  {
   "cell_type": "markdown",
   "metadata": {},
   "source": [
    "# 2nd version: with party's names"
   ]
  },
  {
   "cell_type": "code",
   "execution_count": null,
   "metadata": {},
   "outputs": [],
   "source": [
    "unique_parties = set()\n",
    "for tour in first_tour_scores:\n",
    "    for candidate in tour['scores']:\n",
    "        for party in candidate['parti']:\n",
    "            if party != '':\n",
    "                unique_parties.add(party)\n",
    "unique_parties"
   ]
  },
  {
   "cell_type": "code",
   "execution_count": null,
   "metadata": {},
   "outputs": [],
   "source": [
    "link_candidate_party = {'Arnaud Montebourg': 'Montebourg', 'Jean Lassalle':'Résistons', 'Eric Zemmour':'Reconquête', 'Christiane Taubira':'Taubira', 'Jean-Christophe Lagarde':'UDI', 'Jean-Luc Mélenchon':'France insoumise', 'Anne Hidalgo':'Parti socialiste', 'Yannick Jadot':'EE-LV', 'Valérie Pécresse':'Les Républicains', 'Xavier Bertrand':'Les Républicains', 'Bruno Retailleau':'Les Républicains'} #\"small\" candidates like Montebourg or Taubira are assigned their own party\n",
    "for key,value in link_candidate_party.items():\n",
    "    unique_parties.add(value)\n",
    "unique_parties\n",
    "\n",
    "\n",
    "# but issue when several candidates from a same party (Montebourg, Taubira and Hidalgo for the Parti socialiste TODO) choix qui peut etre fait : les regrouper ensemble\n",
    "# in fact is this really an issue, as long as all candidates have a party? need to think more about it "
   ]
  },
  {
   "cell_type": "code",
   "execution_count": null,
   "metadata": {},
   "outputs": [],
   "source": [
    "\n",
    "rows_parties = []\n",
    "for tour in first_tour_scores:\n",
    "    row = {'Company':tour['nom_institut'], 'collectPeriodFrom':tour['debut_enquete'], 'collectPeriodTo':tour['fin_enquete'], 'n':tour['echantillon'], 'Hypothese': tour['hypothese']}\n",
    "    for party in unique_parties:\n",
    "        row[party] = 0\n",
    "    for candidate in tour['scores']:\n",
    "        if candidate[\"parti\"] == [''] or len(candidate[\"parti\"])>1: #no party or several\n",
    "            if candidate[\"candidat\"] not in link_candidate_party.keys(): #parties we will need to add by hand\n",
    "                print(candidate, candidate[\"candidat\"])\n",
    "                print(\"no party\")\n",
    "            candidate[\"parti\"] = [link_candidate_party[candidate[\"candidat\"]]]\n",
    "        for party in candidate['parti']: \n",
    "            if party in unique_parties:\n",
    "                row[party] += candidate['intentions']\n",
    "    rows_parties.append(row)\n",
    "\n",
    "#rows_parties"
   ]
  },
  {
   "cell_type": "code",
   "execution_count": null,
   "metadata": {},
   "outputs": [],
   "source": [
    "df_parties = pd.DataFrame(rows_parties)\n",
    "df_parties['Total'] = df_parties[list(unique_parties)].sum(axis=1)\n",
    "print(len(df_parties[df_parties['Total']!=100]))\n",
    "df_parties"
   ]
  },
  {
   "cell_type": "code",
   "execution_count": null,
   "metadata": {},
   "outputs": [],
   "source": [
    "df_parties.to_csv('../output_data/df_parties.csv', index=False, encoding='utf-8')"
   ]
  }
 ],
 "metadata": {
  "kernelspec": {
   "display_name": "Python 3",
   "language": "python",
   "name": "python3"
  },
  "language_info": {
   "codemirror_mode": {
    "name": "ipython",
    "version": 3
   },
   "file_extension": ".py",
   "mimetype": "text/x-python",
   "name": "python",
   "nbconvert_exporter": "python",
   "pygments_lexer": "ipython3",
   "version": "3.11.3"
  }
 },
 "nbformat": 4,
 "nbformat_minor": 2
}
